{
 "cells": [
  {
   "cell_type": "code",
   "execution_count": 1,
   "metadata": {},
   "outputs": [],
   "source": [
    "import pandas as pd\n",
    "import string"
   ]
  },
  {
   "cell_type": "code",
   "execution_count": 7,
   "metadata": {},
   "outputs": [],
   "source": [
    "file = 'XSRL_Dev_DE.conll.S2T.populated.conll09'\n",
    "output_file = \"DE_vocab.txt\""
   ]
  },
  {
   "cell_type": "code",
   "execution_count": 5,
   "metadata": {},
   "outputs": [],
   "source": [
    "sentences = []\n",
    "with open(file, 'r') as f:\n",
    "    data = f.readlines()\n",
    "    sentence =[]\n",
    "    for line in data:\n",
    "        if line == '\\n':\n",
    "            sentences.append(' '.join(sentence))\n",
    "            sentence = []\n",
    "        else:\n",
    "            if line.split('\\t')[1] in string.punctuation:\n",
    "                if len(sentence) > 0:\n",
    "                    sentence[-1] = sentence[-1]+line.split('\\t')[1]\n",
    "                else:\n",
    "                    sentence.append(line.split('\\t')[1])\n",
    "            else:\n",
    "                sentence.append(line.split('\\t')[1])\n",
    "\n"
   ]
  },
  {
   "cell_type": "code",
   "execution_count": 8,
   "metadata": {},
   "outputs": [],
   "source": [
    "with open(output_file, 'w') as f:\n",
    "    f.write('\\n'.join(sentences))"
   ]
  },
  {
   "cell_type": "code",
   "execution_count": null,
   "metadata": {},
   "outputs": [],
   "source": []
  }
 ],
 "metadata": {
  "kernelspec": {
   "display_name": "indstudy_38",
   "language": "python",
   "name": "python3"
  },
  "language_info": {
   "codemirror_mode": {
    "name": "ipython",
    "version": 3
   },
   "file_extension": ".py",
   "mimetype": "text/x-python",
   "name": "python",
   "nbconvert_exporter": "python",
   "pygments_lexer": "ipython3",
   "version": "3.8.18"
  }
 },
 "nbformat": 4,
 "nbformat_minor": 4
}
